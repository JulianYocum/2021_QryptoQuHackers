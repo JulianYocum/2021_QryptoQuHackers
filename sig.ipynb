{
 "cells": [
  {
   "cell_type": "markdown",
   "metadata": {},
   "source": [
    "### Signing Process\n",
    "\n",
    "A signing process example for a message-bit b = 0 using Gottesman-Chuang scheme\n",
    "Let Person A (Alice) want to send a message to Person B (Bob). Hash algorithms won't be considered, so Alice has to sign every single bit of her message. Message-Bit b \n",
    "∈\n",
    "{\n",
    "0\n",
    ",\n",
    "1\n",
    "}\n",
    "\\in \\{0,1\\}.\n",
    "\n",
    "Alice chooses M pairs of private keys \n",
    "{\n",
    "k\n",
    "0\n",
    "i\n",
    ",\n",
    "k\n",
    "1\n",
    "i\n",
    "}\n",
    "1\n",
    "≤\n",
    "i\n",
    "≤\n",
    "M\n",
    "\\{k_{0}^{i},k_{1}^{i}\\}\\quad 1\\leq i\\leq M\n",
    "\n",
    "All the \n",
    "k\n",
    "0\n",
    "k_{0} keys will be used to sign the message-bit if b = 0.\n",
    "All the \n",
    "k\n",
    "1\n",
    "k_{1} keys will be used to sign the message-bit if b = 1.\n",
    "The function which maps \n",
    "k\n",
    "↦\n",
    "|\n",
    "f\n",
    "k\n",
    "⟩\n",
    "k\\mapsto |f_{k}\\rangle  is known to all parties. Alice now computes the corresponding public keys \n",
    "{\n",
    "|\n",
    "f\n",
    "k\n",
    "0\n",
    "i\n",
    "⟩\n",
    ",\n",
    "|\n",
    "f\n",
    "k\n",
    "1\n",
    "i\n",
    "⟩\n",
    "}\n",
    "\\{|f_{{k_{0}}}^{i}\\rangle ,|f_{{k_{1}}}^{i}\\rangle \\} and gives all of them to the recipients. She can make as many copies as she needs, but has to take care, not to endanger the security \n",
    "(\n",
    "n\n",
    "≫\n",
    "T\n",
    "m\n",
    " has to hold \n",
    ")\n",
    "\\left(n\\gg Tm{\\text{ has to hold }}\\right).\n",
    "\n",
    "Her level of security limits the number of identical public keys she can create\n",
    "\n",
    "If message-bit b = 0, she sends all her private keys \n",
    "k\n",
    "0\n",
    "k_{0} along with the message-bit b to Bob\n",
    "message-bit b = 1, she sends all her private keys \n",
    "k\n",
    "1\n",
    "k_{1} along with the message-bit b to Bob\n",
    "Remember: In this example Alice picks only one bit b and signs it. She has to do that for every single bit in her message"
   ]
  },
  {
   "cell_type": "code",
   "execution_count": 177,
   "metadata": {},
   "outputs": [],
   "source": [
    "from qiskit import *\n",
    "from qiskit_ionq_provider import IonQProvider \n",
    "from qiskit.providers.jobstatus import JobStatus\n",
    "#Call provider and set token value\n",
    "provider = IonQProvider(token='BFmvdArkiCbsS12r4LZf5VgYDo4HngsS')\n",
    "from random import randrange\n",
    "\n",
    "# from swap_test import swaptest as swap_test\n",
    "\n",
    "%run swap_test.ipynb\n",
    "%run Hash_Function.ipynb"
   ]
  },
  {
   "cell_type": "code",
   "execution_count": 178,
   "metadata": {},
   "outputs": [],
   "source": [
    "# given a message, produces a Quantum Digital Signature\n",
    "class Signed_Transaction():\n",
    "    def __init__(self, message):\n",
    "        self.message = message\n",
    "        self.bitstring = self.string_to_bitstring(message)\n",
    "        self.signed_transaction = self.sign_transaction()\n",
    "        \n",
    "    def string_to_bitstring(self, m):\n",
    "        bs = \"\"\n",
    "        for i in bytes(m, encoding='utf-8'):\n",
    "            bs += bin(i)[2:]\n",
    "        return bs\n",
    "    \n",
    "        \n",
    "    # make M pairs of private keys\n",
    "    def generate_priv_keys(self):\n",
    "        n = 4\n",
    "        d = 3\n",
    "        \n",
    "        return {\n",
    "            'k0': [bitstring(randrange(2**n - 1),n) for i in range(d)],\n",
    "            'k1': [bitstring(randrange(2**n - 1),n) for i in range(d)]\n",
    "        }\n",
    "    \n",
    "    # make M pairs of public keys (Quantum States)\n",
    "    def generate_pub_keys(self, priv_keys):\n",
    "        return {\n",
    "            \"f_k0\":[crypto_hash(ki, priv_keys[\"k0\"]) for ki in priv_keys[\"k0\"]], \n",
    "            \"f_k1\":[crypto_hash(kj, priv_keys[\"k1\"]) for kj in priv_keys[\"k1\"]]\n",
    "        }\n",
    "    \n",
    "    def sign_bit(self, b, priv_keys, pub_keys):\n",
    "        \n",
    "        return {\n",
    "            \"m_bit\" : b,\n",
    "            \"priv_keys\" : priv_keys['k0'] if b == '0' else priv_keys['k1'],\n",
    "            \"pub_keys\" : pub_keys\n",
    "        }\n",
    "    \n",
    "    def sign_transaction(self):\n",
    "        signed_transaction = []\n",
    "        \n",
    "        for b in self.bitstring:\n",
    "            priv_keys = self.generate_priv_keys()\n",
    "            pub_keys = self.generate_pub_keys(priv_keys)\n",
    "            \n",
    "            signed_transaction.append(self.sign_bit(b, priv_keys, pub_keys))\n",
    "            \n",
    "        return signed_transaction\n",
    "        \n",
    "    def get_signature(self):\n",
    "        return self.signed_transaction"
   ]
  },
  {
   "cell_type": "code",
   "execution_count": 189,
   "metadata": {},
   "outputs": [],
   "source": [
    "class Validation():\n",
    "    \n",
    "    BIT_THRESHOLD = .3 #???\n",
    "    MESSAGE_THRESHOLD = .1 #??????\n",
    "    \n",
    "    def __init__(self, transaction):\n",
    "        self.signature = transaction.get_signature()\n",
    "        #self.validations = self.validate_transaction()\n",
    "\n",
    "    def key_tests(self, signed_bit):\n",
    "        priv_keys = signed_bit[\"priv_keys\"]\n",
    "        \n",
    "        # select list of public keys corresponding to bit value\n",
    "        pub_keys = signed_bit[\"pub_keys\"]['f_k0'] if signed_bit[\"m_bit\"] == '0' else signed_bit[\"pub_keys\"]['f_k1']\n",
    "        \n",
    "        # hash private keys\n",
    "        hashed_keys = [crypto_hash(ki, priv_keys) for ki in priv_keys]\n",
    "        \n",
    "        # perform swap test on public and hashed private keys\n",
    "        tests = [swap_test(pki, pkj) for pki, pkj in zip(pub_keys, hashed_keys)]\n",
    "        \n",
    "        return tests\n",
    "    \n",
    "    def validate_bit(self, signed_bit):\n",
    "        \n",
    "        tests = self.key_tests(signed_bit)\n",
    "        #print(tests)\n",
    "        \n",
    "        M = len(tests)\n",
    "        threshold  = M * self.BIT_THRESHOLD\n",
    "        \n",
    "        r = sum(tests)\n",
    "        if r < threshold:\n",
    "            passed = True\n",
    "        else:\n",
    "            passed = False\n",
    "            \n",
    "            \n",
    "        return int(passed)\n",
    "    \n",
    "#         return {\n",
    "#             \"passed\": passed,\n",
    "#             \"r\": r,\n",
    "#             \"threshold\": threshold,\n",
    "#             \"tests\": tests,\n",
    "#         }\n",
    "    \n",
    "    def validate(self):\n",
    "        validations = []\n",
    "        \n",
    "        for signed_bit in self.signature:\n",
    "            validations.append(self.validate_bit(signed_bit))\n",
    "                    \n",
    "        failures = len(validations) - sum(validations)\n",
    "        failure_rate = failures / len(validations)\n",
    "        \n",
    "        return {\n",
    "            \"pass\": failure_rate < self.MESSAGE_THRESHOLD,\n",
    "            \"bits_failure\": str(round(failure_rate * 100, 4)) + '%'\n",
    "        }\n",
    "            "
   ]
  },
  {
   "cell_type": "code",
   "execution_count": 190,
   "metadata": {},
   "outputs": [],
   "source": [
    "class Forgery(Signed_Transaction):\n",
    "    def __init__(self, message):\n",
    "        self.message = message\n",
    "        self.bitstring = self.string_to_bitstring(message)\n",
    "        self.forged_transaction = self.forge_transaction()\n",
    "        \n",
    "    def forge_transaction(self):\n",
    "        signed_transaction = []\n",
    "        \n",
    "        for b in self.bitstring:\n",
    "            # generate a set of public keys and forget corresponding private\n",
    "            pub_keys = self.generate_pub_keys(self.generate_priv_keys())\n",
    "            # forge a new set of private keys\n",
    "            priv_keys = self.generate_priv_keys()\n",
    "            \n",
    "            signed_transaction.append(self.sign_bit(b, priv_keys, pub_keys))\n",
    "            \n",
    "        return signed_transaction\n",
    "        \n",
    "    def get_signature(self):\n",
    "        return self.forged_transaction"
   ]
  },
  {
   "cell_type": "code",
   "execution_count": 191,
   "metadata": {},
   "outputs": [],
   "source": [
    "signed_message = Signed_Transaction(\"1234556\")\n",
    "forged_message = Forgery(\"1234556\")"
   ]
  },
  {
   "cell_type": "code",
   "execution_count": 192,
   "metadata": {},
   "outputs": [
    {
     "name": "stdout",
     "output_type": "stream",
     "text": [
      "{'pass': True, 'bits_failure': '0.0%'}\n",
      "{'pass': False, 'bits_failure': '69.0476%'}\n"
     ]
    }
   ],
   "source": [
    "good_validation = Validation(signed_message)\n",
    "print(good_validation.validate())\n",
    "\n",
    "bad_validation = Validation(forged_message)\n",
    "print(bad_validation.validate())"
   ]
  },
  {
   "cell_type": "code",
   "execution_count": 125,
   "metadata": {},
   "outputs": [],
   "source": [
    "# passes = 0\n",
    "# fails = 0\n",
    "\n",
    "# for i in range(5):\n",
    "#     # Message bit\n",
    "#     b = 0\n",
    "\n",
    "#     sig = Signature(b)\n",
    "#     sig.get_signature()['pub_keys']['f_k1']\n",
    "#     val = Validation(sig)\n",
    "    \n",
    "    \n",
    "#     result = val.result()\n",
    "\n",
    "#     if result['passed']:\n",
    "#         passes += 1\n",
    "#     else:\n",
    "#         fails += 1\n",
    "\n",
    "# print(passes, fails)"
   ]
  },
  {
   "cell_type": "code",
   "execution_count": 194,
   "metadata": {
    "scrolled": true
   },
   "outputs": [
    {
     "data": {
      "text/latex": [
       "$\\displaystyle \n",
       "\\text{Statevector} = \\begin{bmatrix}\n",
       "-\\tfrac{1}{2} \\\\\n",
       "\\tfrac{1}{2} \\\\\n",
       "\\tfrac{1}{2} \\\\\n",
       "\\tfrac{1}{2}\n",
       "\\end{bmatrix}\n",
       "$"
      ],
      "text/plain": [
       "<IPython.core.display.Math object>"
      ]
     },
     "metadata": {},
     "output_type": "display_data"
    }
   ],
   "source": [
    "pubk = signed_message.get_signature()[4]['pub_keys']['f_k1'][1]\n",
    "\n",
    "from qiskit_textbook.tools import array_to_latex\n",
    "array_to_latex(pubk, pretext=\"\\\\text{Statevector} = \")"
   ]
  },
  {
   "cell_type": "code",
   "execution_count": 127,
   "metadata": {},
   "outputs": [
    {
     "data": {
      "text/plain": [
       "[array([-0.69351992+0.j,  0.69351992+0.j, -0.13794969+0.j, -0.13794969+0.j]),\n",
       " array([ 0.5-3.06161700e-16j,  0.5+3.06161700e-16j, -0.5-1.01051188e-31j,\n",
       "         0.5-1.13514263e-31j]),\n",
       " array([ 0.5879378 +2.48714532e-17j, -0.5879378 +3.35463213e-16j,\n",
       "         0.39284748-9.25662020e-16j,  0.39284748-9.97337041e-16j])]"
      ]
     },
     "execution_count": 127,
     "metadata": {},
     "output_type": "execute_result"
    }
   ],
   "source": [
    "signed_message.get_signature()[8]['pub_keys']['f_k0']"
   ]
  },
  {
   "cell_type": "code",
   "execution_count": null,
   "metadata": {},
   "outputs": [],
   "source": []
  },
  {
   "cell_type": "code",
   "execution_count": 157,
   "metadata": {},
   "outputs": [
    {
     "data": {
      "text/plain": [
       "128"
      ]
     },
     "execution_count": 157,
     "metadata": {},
     "output_type": "execute_result"
    }
   ],
   "source": [
    "2**7"
   ]
  },
  {
   "cell_type": "code",
   "execution_count": null,
   "metadata": {},
   "outputs": [],
   "source": []
  }
 ],
 "metadata": {
  "kernelspec": {
   "display_name": "Python 3",
   "language": "python",
   "name": "python3"
  },
  "language_info": {
   "codemirror_mode": {
    "name": "ipython",
    "version": 3
   },
   "file_extension": ".py",
   "mimetype": "text/x-python",
   "name": "python",
   "nbconvert_exporter": "python",
   "pygments_lexer": "ipython3",
   "version": "3.8.5"
  }
 },
 "nbformat": 4,
 "nbformat_minor": 4
}
