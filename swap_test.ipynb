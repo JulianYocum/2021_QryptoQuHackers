{
 "cells": [
  {
   "cell_type": "code",
   "execution_count": 8,
   "metadata": {},
   "outputs": [
    {
     "name": "stdout",
     "output_type": "stream",
     "text": [
      "0\n"
     ]
    }
   ],
   "source": [
    "from qiskit import *\n",
    "#from qiskit_ionq_provider import IonQProvider \n",
    "from qiskit.providers.jobstatus import JobStatus\n",
    "#Call provider and set token value\n",
    "\n",
    "\n",
    "\n",
    "from math import log\n",
    "\n",
    "\n",
    "\n",
    "\n",
    "def swaptest(qsi, qsj):\n",
    "    size = int(log(len(qsi), 2))\n",
    "    q = QuantumRegister(2*size+1)\n",
    "    c = ClassicalRegister(1)    \n",
    "    swaptest = QuantumCircuit(q,c)\n",
    "    swaptest.initialize(qsi, range(1,size+1))\n",
    "    swaptest.initialize(qsj, range(size+1, 2*size+1))\n",
    "    swaptest.h(0)\n",
    "    for i in range(1, size+1):\n",
    "        swaptest.cx(i+size,i)\n",
    "        swaptest.toffoli(0,i,i+size)\n",
    "        swaptest.cx(i+size,i)\n",
    "    swaptest.h(0)\n",
    "    swaptest.measure(range(1), range(1))\n",
    "    backend_sim = Aer.get_backend('qasm_simulator')\n",
    "    job_sim = execute(swaptest, backend_sim, shots=1)\n",
    "    result_sim = job_sim.result()\n",
    "    counts = result_sim.get_counts()\n",
    "    return int('1' in counts)\n",
    "#print(swaptest([0.8,0.6],[0.8,0.6]))\n",
    "\n",
    "#swap3=swaptest(3)\n",
    "#print(swap3.draw())\n",
    "#backend = provider.get_backend(\"ionq_simulator\")\n",
    "##backend_sim = Aer.get_backend('qasm_simulator')\n",
    "##job_sim = execute(circ, backend_sim, shots=1024)\n",
    "#job_sim = backend.run(swap3, shots=1024)\n",
    "#result_sim = job_sim.result()\n",
    "#\n",
    "#counts = result_sim.get_counts()\n",
    "#print(counts)"
   ]
  },
  {
   "cell_type": "code",
   "execution_count": null,
   "metadata": {},
   "outputs": [],
   "source": []
  },
  {
   "cell_type": "code",
   "execution_count": null,
   "metadata": {},
   "outputs": [],
   "source": []
  },
  {
   "cell_type": "code",
   "execution_count": null,
   "metadata": {},
   "outputs": [],
   "source": []
  }
 ],
 "metadata": {
  "kernelspec": {
   "display_name": "Python 3",
   "language": "python",
   "name": "python3"
  },
  "language_info": {
   "codemirror_mode": {
    "name": "ipython",
    "version": 3
   },
   "file_extension": ".py",
   "mimetype": "text/x-python",
   "name": "python",
   "nbconvert_exporter": "python",
   "pygments_lexer": "ipython3",
   "version": "3.7.6"
  }
 },
 "nbformat": 4,
 "nbformat_minor": 4
}
