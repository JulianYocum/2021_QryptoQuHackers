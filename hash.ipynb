{
 "cells": [
  {
   "cell_type": "code",
   "execution_count": 22,
   "metadata": {},
   "outputs": [],
   "source": [
    "from qutip import *\n",
    "import numpy as np\n",
    "import matplotlib.pyplot as plt\n",
    "from math import log\n",
    "\n",
    "from qiskit import Aer, execute\n",
    "\n",
    "from qiskit_ionq_provider import IonQProvider \n",
    "\n",
    "#Call provider and set token value\n",
    "provider = IonQProvider(token='BFmvdArkiCbsS12r4LZf5VgYDo4HngsS')"
   ]
  },
  {
   "cell_type": "code",
   "execution_count": 26,
   "metadata": {},
   "outputs": [],
   "source": [
    "from qiskit import *\n",
    "from qiskit.circuit.library.standard_gates import RYGate\n",
    "import numpy as np\n",
    "\n",
    "def bitstring(num, n):\n",
    "    bstring = '0'*n + bin(num)[2:]\n",
    "    return bstring[-n:]\n",
    "\n",
    "def crypto_hash(M, K):\n",
    "    \"\"\"\n",
    "    M: length n bit-string message to encode\n",
    "    K: list of d integers from 0 to N-1\n",
    "    \"\"\"\n",
    "    n = len(M) # num bits in message\n",
    "    d = len(K) # num keys\n",
    "    N = 2**n\n",
    "    \n",
    "    \n",
    "    num_qubits = int(log(d, 2)) + 1 #?????\n",
    "    qr = QuantumRegister(num_qubits)\n",
    "    qc = QuantumCircuit(qr)\n",
    "    \n",
    "    qc.h(range(num_qubits-1))\n",
    "\n",
    "    for j in range(len(M)):\n",
    "        if M[j] == '1':\n",
    "            for i in range(d):\n",
    "                ctrl_state = bitstring(i, num_qubits-1)\n",
    "\n",
    "                theta = 4*np.pi * int(K[i],2) * 2**j / N\n",
    "                \n",
    "                Y_Rotate_Gate = RYGate(theta).control(num_qubits-1, ctrl_state=ctrl_state)\n",
    "                qc.compose(Y_Rotate_Gate, qr, inplace=True)\n",
    "    \n",
    "    #print(qc.draw())\n",
    "    \n",
    "    backend = Aer.get_backend('statevector_simulator')\n",
    "    state = execute(qc,backend).result().get_statevector()\n",
    "    return(state)\n",
    "    \n",
    "    "
   ]
  },
  {
   "cell_type": "code",
   "execution_count": 33,
   "metadata": {},
   "outputs": [
    {
     "name": "stdout",
     "output_type": "stream",
     "text": [
      "       ┌───┐                                                            »\n",
      "q46_0: ┤ H ├──────o────────────■───────────o───────────■──────────o─────»\n",
      "       ├───┤      │            │           │           │          │     »\n",
      "q46_1: ┤ H ├──────o────────────o───────────■───────────■──────────o─────»\n",
      "       └───┘┌─────┴─────┐┌─────┴─────┐┌────┴─────┐┌────┴────┐┌────┴────┐»\n",
      "q46_2: ─────┤ RY(11π/4) ├┤ RY(13π/4) ├┤ RY(9π/4) ├┤ RY(π/2) ├┤ RY(22π) ├»\n",
      "            └───────────┘└───────────┘└──────────┘└─────────┘└─────────┘»\n",
      "«                                       \n",
      "«q46_0: ─────■──────────o─────────■─────\n",
      "«            │          │         │     \n",
      "«q46_1: ─────o──────────■─────────■─────\n",
      "«       ┌────┴────┐┌────┴────┐┌───┴────┐\n",
      "«q46_2: ┤ RY(26π) ├┤ RY(18π) ├┤ RY(4π) ├\n",
      "«       └─────────┘└─────────┘└────────┘\n"
     ]
    }
   ],
   "source": [
    "#state = crypto_hash('1001', ['1011', '1101', '1001', '0010'])\n",
    "\n",
    "# from qiskit_textbook.tools import array_to_latex\n",
    "# array_to_latex(state, pretext=\"\\\\text{Statevector} = \")"
   ]
  },
  {
   "cell_type": "code",
   "execution_count": null,
   "metadata": {},
   "outputs": [],
   "source": []
  },
  {
   "cell_type": "code",
   "execution_count": null,
   "metadata": {},
   "outputs": [],
   "source": []
  }
 ],
 "metadata": {
  "kernelspec": {
   "display_name": "Python 3",
   "language": "python",
   "name": "python3"
  },
  "language_info": {
   "codemirror_mode": {
    "name": "ipython",
    "version": 3
   },
   "file_extension": ".py",
   "mimetype": "text/x-python",
   "name": "python",
   "nbconvert_exporter": "python",
   "pygments_lexer": "ipython3",
   "version": "3.8.5"
  }
 },
 "nbformat": 4,
 "nbformat_minor": 4
}
