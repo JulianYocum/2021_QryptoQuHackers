{
 "cells": [
  {
   "cell_type": "code",
   "execution_count": 10,
   "metadata": {},
   "outputs": [],
   "source": [
    "import numpy as np\n",
    "from qiskit import *\n",
    "from qiskit_ionq_provider import IonQProvider \n",
    "from qiskit.providers.jobstatus import JobStatus\n",
    "#Call provider and set token value\n",
    "provider = IonQProvider(token='BFmvdArkiCbsS12r4LZf5VgYDo4HngsS')\n",
    "from qiskit_textbook.tools import array_to_latex\n",
    "\n",
    "from signature import *\n",
    "from hash import crypto_hash\n",
    "from swap_test import swap_test"
   ]
  },
  {
   "cell_type": "code",
   "execution_count": 11,
   "metadata": {},
   "outputs": [
    {
     "name": "stdout",
     "output_type": "stream",
     "text": [
      "         ┌───┐                                                            »\n",
      "q4481_0: ┤ H ├──────o────────────■───────────o───────────■──────────o─────»\n",
      "         ├───┤      │            │           │           │          │     »\n",
      "q4481_1: ┤ H ├──────o────────────o───────────■───────────■──────────o─────»\n",
      "         └───┘┌─────┴─────┐┌─────┴─────┐┌────┴─────┐┌────┴────┐┌────┴────┐»\n",
      "q4481_2: ─────┤ RY(11π/4) ├┤ RY(13π/4) ├┤ RY(9π/4) ├┤ RY(π/2) ├┤ RY(22π) ├»\n",
      "              └───────────┘└───────────┘└──────────┘└─────────┘└─────────┘»\n",
      "«                                         \n",
      "«q4481_0: ─────■──────────o─────────■─────\n",
      "«              │          │         │     \n",
      "«q4481_1: ─────o──────────■─────────■─────\n",
      "«         ┌────┴────┐┌────┴────┐┌───┴────┐\n",
      "«q4481_2: ┤ RY(26π) ├┤ RY(18π) ├┤ RY(4π) ├\n",
      "«         └─────────┘└─────────┘└────────┘\n"
     ]
    }
   ],
   "source": [
    "state = crypto_hash('1001', ['1011', '1101', '1001', '0010'], verbose=True)"
   ]
  },
  {
   "cell_type": "code",
   "execution_count": 12,
   "metadata": {},
   "outputs": [
    {
     "data": {
      "text/latex": [
       "$\\displaystyle \n",
       "\\text{Hash('1001')} = \\begin{bmatrix}\n",
       "0.19134 \\\\\n",
       "-0.19134 \\\\\n",
       "0.46194 \\\\\n",
       "\\tfrac{1}{\\sqrt{8}} \\\\\n",
       "0.46194 \\\\\n",
       "0.46194 \\\\\n",
       "0.19134 \\\\\n",
       "\\tfrac{1}{\\sqrt{8}}\n",
       "\\end{bmatrix}\n",
       "$"
      ],
      "text/plain": [
       "<IPython.core.display.Math object>"
      ]
     },
     "metadata": {},
     "output_type": "display_data"
    }
   ],
   "source": [
    "array_to_latex(state, pretext=\"\\\\text{Hash('1001')} = \")"
   ]
  },
  {
   "cell_type": "code",
   "execution_count": 13,
   "metadata": {},
   "outputs": [],
   "source": [
    "signed_message = Signed_Transaction(\"1234556\")\n",
    "forged_message = Forgery(\"1234556\")"
   ]
  },
  {
   "cell_type": "code",
   "execution_count": 14,
   "metadata": {},
   "outputs": [
    {
     "name": "stdout",
     "output_type": "stream",
     "text": [
      "{'pass': True, 'bits_failure': '0.0%'}\n",
      "{'pass': False, 'bits_failure': '71.4286%'}\n"
     ]
    }
   ],
   "source": [
    "good_validation = Validation(signed_message)\n",
    "print(good_validation.validate())\n",
    "\n",
    "bad_validation = Validation(forged_message)\n",
    "print(bad_validation.validate())"
   ]
  },
  {
   "cell_type": "code",
   "execution_count": 5,
   "metadata": {},
   "outputs": [],
   "source": [
    "# passes = 0\n",
    "# fails = 0\n",
    "\n",
    "# for i in range(5):\n",
    "#     # Message bit\n",
    "#     b = 0\n",
    "\n",
    "#     sig = Signature(b)\n",
    "#     sig.get_signature()['pub_keys']['f_k1']\n",
    "#     val = Validation(sig)\n",
    "    \n",
    "    \n",
    "#     result = val.result()\n",
    "\n",
    "#     if result['passed']:\n",
    "#         passes += 1\n",
    "#     else:\n",
    "#         fails += 1\n",
    "\n",
    "# print(passes, fails)"
   ]
  },
  {
   "cell_type": "code",
   "execution_count": 28,
   "metadata": {},
   "outputs": [
    {
     "name": "stdout",
     "output_type": "stream",
     "text": [
      "                               ┌───┐                                          »\n",
      "q4530_0: ──────────────────────┤ H ├──────────────────────────────────■───────»\n",
      "         ┌─────────────────────┴───┴─────────────────────┐┌───┐       │  ┌───┐»\n",
      "q4530_1: ┤0                                              ├┤ X ├───────■──┤ X ├»\n",
      "         │  initialize(0.65328,-0.65328,-0.2706,-0.2706) │└─┬─┘┌───┐  │  └─┬─┘»\n",
      "q4530_2: ┤1                                              ├──┼──┤ X ├──┼────┼──»\n",
      "         ├───────────────────────────────────────────────┤  │  └─┬─┘┌─┴─┐  │  »\n",
      "q4530_3: ┤0                                              ├──■────┼──┤ X ├──■──»\n",
      "         │  initialize(0.65328,-0.65328,-0.2706,-0.2706) │       │  └───┘     »\n",
      "q4530_4: ┤1                                              ├───────■────────────»\n",
      "         └───────────────────────────────────────────────┘                    »\n",
      " c269: 1/═════════════════════════════════════════════════════════════════════»\n",
      "                                                                              »\n",
      "«              ┌───┐┌─┐\n",
      "«q4530_0: ──■──┤ H ├┤M├\n",
      "«           │  └───┘└╥┘\n",
      "«q4530_1: ──┼────────╫─\n",
      "«           │  ┌───┐ ║ \n",
      "«q4530_2: ──■──┤ X ├─╫─\n",
      "«           │  └─┬─┘ ║ \n",
      "«q4530_3: ──┼────┼───╫─\n",
      "«         ┌─┴─┐  │   ║ \n",
      "«q4530_4: ┤ X ├──■───╫─\n",
      "«         └───┘      ║ \n",
      "« c269: 1/═══════════╩═\n",
      "«                    0 \n"
     ]
    },
    {
     "data": {
      "text/plain": [
       "0"
      ]
     },
     "execution_count": 28,
     "metadata": {},
     "output_type": "execute_result"
    }
   ],
   "source": [
    "pub_0 = signed_message.get_signature()[0]['pub_keys']['f_k0'][0]\n",
    "pub_1 = signed_message.get_signature()[0]['pub_keys']['f_k0'][0]\n",
    "\n",
    "swap_test(pub_0, pub_1, verbose=True)"
   ]
  },
  {
   "cell_type": "code",
   "execution_count": 32,
   "metadata": {
    "scrolled": true
   },
   "outputs": [
    {
     "data": {
      "text/latex": [
       "$\\displaystyle \n",
       "\\text{Statevector} = \\begin{bmatrix}\n",
       "0.65328 \\\\\n",
       "-0.65328 \\\\\n",
       "-0.2706 \\\\\n",
       "-0.2706\n",
       "\\end{bmatrix}\n",
       "$"
      ],
      "text/plain": [
       "<IPython.core.display.Math object>"
      ]
     },
     "metadata": {},
     "output_type": "display_data"
    }
   ],
   "source": [
    "\n"
   ]
  },
  {
   "cell_type": "code",
   "execution_count": null,
   "metadata": {},
   "outputs": [],
   "source": []
  },
  {
   "cell_type": "code",
   "execution_count": null,
   "metadata": {},
   "outputs": [],
   "source": []
  }
 ],
 "metadata": {
  "kernelspec": {
   "display_name": "Python 3",
   "language": "python",
   "name": "python3"
  },
  "language_info": {
   "codemirror_mode": {
    "name": "ipython",
    "version": 3
   },
   "file_extension": ".py",
   "mimetype": "text/x-python",
   "name": "python",
   "nbconvert_exporter": "python",
   "pygments_lexer": "ipython3",
   "version": "3.8.5"
  }
 },
 "nbformat": 4,
 "nbformat_minor": 4
}
