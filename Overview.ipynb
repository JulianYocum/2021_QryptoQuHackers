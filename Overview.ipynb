{
 "cells": [
  {
   "cell_type": "code",
   "execution_count": 1,
   "metadata": {},
   "outputs": [],
   "source": [
    "import numpy as np\n",
    "from qiskit import *\n",
    "from qiskit.providers.jobstatus import JobStatus\n",
    "#Call provider and set token value\n",
    "from qiskit_textbook.tools import array_to_latex\n",
    "\n",
    "from signature import *\n",
    "from hash import crypto_hash\n",
    "from swap_test import swap_test"
   ]
  },
  {
   "cell_type": "markdown",
   "metadata": {},
   "source": [
    "We generate a legitimate signature and a forged signature. In the forged signature, the private keys do do not correspond to the public keys. We attempt to validate each signature.\n",
    "\n",
    "Let's say Alice wants to trasfer 1 qrypto BTC to Bob...."
   ]
  },
  {
   "cell_type": "code",
   "execution_count": 2,
   "metadata": {},
   "outputs": [],
   "source": [
    "alices_signature = Signed_Transaction(\"A-->B(1qBTC)\").get_signature()"
   ]
  },
  {
   "cell_type": "code",
   "execution_count": 3,
   "metadata": {},
   "outputs": [
    {
     "name": "stdout",
     "output_type": "stream",
     "text": [
      "num of bits in transaction:  78\n",
      "\n",
      "first bit signature:\n",
      "bit:  1\n",
      "Private keys:  ['1110', '1001', '1000']\n"
     ]
    }
   ],
   "source": [
    "print(\"num of bits in transaction: \", len(alices_signature))\n",
    "print()\n",
    "print(\"first bit signature:\")\n",
    "print(\"bit: \", alices_signature[0]['m_bit'])\n",
    "print(\"Private keys: \", alices_signature[0]['priv_keys'])"
   ]
  },
  {
   "cell_type": "code",
   "execution_count": 4,
   "metadata": {},
   "outputs": [
    {
     "name": "stdout",
     "output_type": "stream",
     "text": [
      "Some Public keys for the first bit: \n",
      "\n"
     ]
    },
    {
     "data": {
      "text/latex": [
       "$\\displaystyle \n",
       "\\begin{bmatrix}\n",
       "\\tfrac{1}{\\sqrt{2}} \\\\\n",
       "\\tfrac{1}{\\sqrt{2}} \\\\\n",
       "0 \\\\\n",
       "0\n",
       "\\end{bmatrix}\n",
       "$"
      ],
      "text/plain": [
       "<IPython.core.display.Math object>"
      ]
     },
     "metadata": {},
     "output_type": "display_data"
    },
    {
     "name": "stdout",
     "output_type": "stream",
     "text": [
      "None\n"
     ]
    },
    {
     "data": {
      "text/latex": [
       "$\\displaystyle \n",
       "\\begin{bmatrix}\n",
       "\\tfrac{1}{2} \\\\\n",
       "0 \\\\\n",
       "\\tfrac{1}{2} \\\\\n",
       "\\tfrac{1}{\\sqrt{2}}\n",
       "\\end{bmatrix}\n",
       "$"
      ],
      "text/plain": [
       "<IPython.core.display.Math object>"
      ]
     },
     "metadata": {},
     "output_type": "display_data"
    },
    {
     "name": "stdout",
     "output_type": "stream",
     "text": [
      "None\n"
     ]
    },
    {
     "data": {
      "text/latex": [
       "$\\displaystyle \n",
       "\\begin{bmatrix}\n",
       "0 \\\\\n",
       "-\\tfrac{1}{\\sqrt{2}} \\\\\n",
       "-\\tfrac{1}{\\sqrt{2}} \\\\\n",
       "0\n",
       "\\end{bmatrix}\n",
       "$"
      ],
      "text/plain": [
       "<IPython.core.display.Math object>"
      ]
     },
     "metadata": {},
     "output_type": "display_data"
    },
    {
     "name": "stdout",
     "output_type": "stream",
     "text": [
      "None\n"
     ]
    }
   ],
   "source": [
    "print(\"Some Public keys for the first bit: \")\n",
    "print()\n",
    "\n",
    "for i in alices_signature[0]['pub_keys']['f_k0']:\n",
    "    print(array_to_latex(i))"
   ]
  },
  {
   "cell_type": "markdown",
   "metadata": {},
   "source": [
    "Where did these public come from?? A Quantum One-way Hash Function! We display a quantum circuit used for hashing. The private key to be hashed is the integer 9:"
   ]
  },
  {
   "cell_type": "code",
   "execution_count": 5,
   "metadata": {},
   "outputs": [
    {
     "name": "stdout",
     "output_type": "stream",
     "text": [
      "         ┌───┐                                                            »\n",
      "q1810_0: ┤ H ├──────o────────────■───────────o───────────■──────────o─────»\n",
      "         ├───┤      │            │           │           │          │     »\n",
      "q1810_1: ┤ H ├──────o────────────o───────────■───────────■──────────o─────»\n",
      "         └───┘┌─────┴─────┐┌─────┴─────┐┌────┴─────┐┌────┴────┐┌────┴────┐»\n",
      "q1810_2: ─────┤ RY(11π/4) ├┤ RY(13π/4) ├┤ RY(9π/4) ├┤ RY(π/2) ├┤ RY(22π) ├»\n",
      "              └───────────┘└───────────┘└──────────┘└─────────┘└─────────┘»\n",
      "«                                         \n",
      "«q1810_0: ─────■──────────o─────────■─────\n",
      "«              │          │         │     \n",
      "«q1810_1: ─────o──────────■─────────■─────\n",
      "«         ┌────┴────┐┌────┴────┐┌───┴────┐\n",
      "«q1810_2: ┤ RY(26π) ├┤ RY(18π) ├┤ RY(4π) ├\n",
      "«         └─────────┘└─────────┘└────────┘\n"
     ]
    }
   ],
   "source": [
    "state = crypto_hash('1001', ['1011', '1101', '1001', '0010'], verbose=True)"
   ]
  },
  {
   "cell_type": "markdown",
   "metadata": {},
   "source": [
    "The state vector for the resulting quantum state:"
   ]
  },
  {
   "cell_type": "code",
   "execution_count": 6,
   "metadata": {},
   "outputs": [
    {
     "data": {
      "text/latex": [
       "$\\displaystyle \n",
       "\\text{Hash('1001')} = \\begin{bmatrix}\n",
       "0.19134 \\\\\n",
       "-0.19134 \\\\\n",
       "0.46194 \\\\\n",
       "\\tfrac{1}{\\sqrt{8}} \\\\\n",
       "0.46194 \\\\\n",
       "0.46194 \\\\\n",
       "0.19134 \\\\\n",
       "\\tfrac{1}{\\sqrt{8}}\n",
       "\\end{bmatrix}\n",
       "$"
      ],
      "text/plain": [
       "<IPython.core.display.Math object>"
      ]
     },
     "metadata": {},
     "output_type": "display_data"
    }
   ],
   "source": [
    "array_to_latex(state, pretext=\"\\\\text{Hash('1001')} = \")"
   ]
  },
  {
   "cell_type": "markdown",
   "metadata": {},
   "source": [
    "Now let's validate Alice's signature:"
   ]
  },
  {
   "cell_type": "code",
   "execution_count": 7,
   "metadata": {},
   "outputs": [
    {
     "name": "stdout",
     "output_type": "stream",
     "text": [
      "{'pass': True, 'bits_failure': '0.0%'}\n"
     ]
    }
   ],
   "source": [
    "alice_validation = Validation(alices_signature)\n",
    "print(alice_validation.validate())"
   ]
  },
  {
   "cell_type": "markdown",
   "metadata": {},
   "source": [
    "Alices message passed! Now let's say Eve wants to forge a transaction, say using Bob's public keys..."
   ]
  },
  {
   "cell_type": "code",
   "execution_count": 8,
   "metadata": {},
   "outputs": [
    {
     "name": "stdout",
     "output_type": "stream",
     "text": [
      "{'pass': False, 'bits_failure': '75.641%'}\n"
     ]
    }
   ],
   "source": [
    "eves_transaction = Forgery(\"B-->E(1qBTC)\").get_signature()\n",
    "eve_validation = Validation(eves_transaction)\n",
    "print(eve_validation.validate())"
   ]
  },
  {
   "cell_type": "markdown",
   "metadata": {},
   "source": [
    "We see Eve's Signature failed! 81% of the bits did not pass. How was this done? A Swap test! We show a the circuit for a swap test. The swap test tries to determine whether two quantum states are equal:"
   ]
  },
  {
   "cell_type": "code",
   "execution_count": 12,
   "metadata": {},
   "outputs": [
    {
     "name": "stdout",
     "output_type": "stream",
     "text": [
      "                        ┌───┐                                         ┌───┐┌─┐\n",
      "q8259_0: ───────────────┤ H ├────────────────────────────■─────────■──┤ H ├┤M├\n",
      "         ┌──────────────┴───┴───────────────┐┌───┐       │  ┌───┐  │  └───┘└╥┘\n",
      "q8259_1: ┤0                                 ├┤ X ├───────■──┤ X ├──┼────────╫─\n",
      "         │  initialize(0.70711,0.70711,0,0) │└─┬─┘┌───┐  │  └─┬─┘  │  ┌───┐ ║ \n",
      "q8259_2: ┤1                                 ├──┼──┤ X ├──┼────┼────■──┤ X ├─╫─\n",
      "         ├──────────────────────────────────┤  │  └─┬─┘┌─┴─┐  │    │  └─┬─┘ ║ \n",
      "q8259_3: ┤0                                 ├──■────┼──┤ X ├──■────┼────┼───╫─\n",
      "         │  initialize(0.70711,0.70711,0,0) │       │  └───┘     ┌─┴─┐  │   ║ \n",
      "q8259_4: ┤1                                 ├───────■────────────┤ X ├──■───╫─\n",
      "         └──────────────────────────────────┘                    └───┘      ║ \n",
      " c470: 1/═══════════════════════════════════════════════════════════════════╩═\n",
      "                                                                            0 \n"
     ]
    },
    {
     "data": {
      "text/plain": [
       "0"
      ]
     },
     "execution_count": 12,
     "metadata": {},
     "output_type": "execute_result"
    }
   ],
   "source": [
    "pub_0 = alices_signature[0]['pub_keys']['f_k0'][0]\n",
    "pub_1 = alices_signature[0]['pub_keys']['f_k0'][0]\n",
    "\n",
    "swap_test(pub_0, pub_1, verbose=True)"
   ]
  },
  {
   "cell_type": "markdown",
   "metadata": {},
   "source": [
    "Swap test outputs 0, Success!"
   ]
  }
 ],
 "metadata": {
  "kernelspec": {
   "display_name": "Python 3",
   "language": "python",
   "name": "python3"
  },
  "language_info": {
   "codemirror_mode": {
    "name": "ipython",
    "version": 3
   },
   "file_extension": ".py",
   "mimetype": "text/x-python",
   "name": "python",
   "nbconvert_exporter": "python",
   "pygments_lexer": "ipython3",
   "version": "3.8.5"
  }
 },
 "nbformat": 4,
 "nbformat_minor": 4
}
