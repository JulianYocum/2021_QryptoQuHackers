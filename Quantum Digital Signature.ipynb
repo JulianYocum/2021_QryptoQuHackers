{
 "cells": [
  {
   "cell_type": "markdown",
   "metadata": {},
   "source": [
    "### Signing Process\n",
    "\n",
    "A signing process example for a message-bit b = 0 using Gottesman-Chuang scheme\n",
    "Let Person A (Alice) want to send a message to Person B (Bob). Hash algorithms won't be considered, so Alice has to sign every single bit of her message. Message-Bit b \n",
    "∈\n",
    "{\n",
    "0\n",
    ",\n",
    "1\n",
    "}\n",
    "\\in \\{0,1\\}.\n",
    "\n",
    "Alice chooses M pairs of private keys \n",
    "{\n",
    "k\n",
    "0\n",
    "i\n",
    ",\n",
    "k\n",
    "1\n",
    "i\n",
    "}\n",
    "1\n",
    "≤\n",
    "i\n",
    "≤\n",
    "M\n",
    "\\{k_{0}^{i},k_{1}^{i}\\}\\quad 1\\leq i\\leq M\n",
    "\n",
    "All the \n",
    "k\n",
    "0\n",
    "k_{0} keys will be used to sign the message-bit if b = 0.\n",
    "All the \n",
    "k\n",
    "1\n",
    "k_{1} keys will be used to sign the message-bit if b = 1.\n",
    "The function which maps \n",
    "k\n",
    "↦\n",
    "|\n",
    "f\n",
    "k\n",
    "⟩\n",
    "k\\mapsto |f_{k}\\rangle  is known to all parties. Alice now computes the corresponding public keys \n",
    "{\n",
    "|\n",
    "f\n",
    "k\n",
    "0\n",
    "i\n",
    "⟩\n",
    ",\n",
    "|\n",
    "f\n",
    "k\n",
    "1\n",
    "i\n",
    "⟩\n",
    "}\n",
    "\\{|f_{{k_{0}}}^{i}\\rangle ,|f_{{k_{1}}}^{i}\\rangle \\} and gives all of them to the recipients. She can make as many copies as she needs, but has to take care, not to endanger the security \n",
    "(\n",
    "n\n",
    "≫\n",
    "T\n",
    "m\n",
    " has to hold \n",
    ")\n",
    "\\left(n\\gg Tm{\\text{ has to hold }}\\right).\n",
    "\n",
    "Her level of security limits the number of identical public keys she can create\n",
    "\n",
    "If message-bit b = 0, she sends all her private keys \n",
    "k\n",
    "0\n",
    "k_{0} along with the message-bit b to Bob\n",
    "message-bit b = 1, she sends all her private keys \n",
    "k\n",
    "1\n",
    "k_{1} along with the message-bit b to Bob\n",
    "Remember: In this example Alice picks only one bit b and signs it. She has to do that for every single bit in her message"
   ]
  },
  {
   "cell_type": "code",
   "execution_count": 211,
   "metadata": {},
   "outputs": [],
   "source": [
    "from qiskit import *\n",
    "from qiskit_ionq_provider import IonQProvider \n",
    "from qiskit.providers.jobstatus import JobStatus\n",
    "#Call provider and set token value\n",
    "provider = IonQProvider(token='BFmvdArkiCbsS12r4LZf5VgYDo4HngsS')\n",
    "from random import randrange"
   ]
  },
  {
   "cell_type": "code",
   "execution_count": 212,
   "metadata": {},
   "outputs": [],
   "source": [
    "class QDS():\n",
    "    # One-way Cyrptographic Quantum Hash function\n",
    "    def crypto_hash(self, k):\n",
    "        return k"
   ]
  },
  {
   "cell_type": "code",
   "execution_count": 213,
   "metadata": {},
   "outputs": [],
   "source": [
    "# given a message, produces a Quantum Digital Signature\n",
    "class Signature(QDS):\n",
    "    def __init__(self, message):\n",
    "        self.message = message\n",
    "        self.priv_keys = self.generate_priv_keys()\n",
    "        self.pub_keys = self.generate_pub_keys()\n",
    "\n",
    "    # make M pairs of private keys\n",
    "    def generate_priv_keys(self):\n",
    "        n = 3\n",
    "        d = 8\n",
    "        \n",
    "        return {\n",
    "            'k0': [(randrange(2**n - 1), randrange(2**n - 1)) for i in range(d)],\n",
    "            'k1': [(randrange(2**n - 1), randrange(2**n - 1)) for i in range(d)]\n",
    "        }\n",
    "    \n",
    "    # make M pairs of public keys (Quantum States)\n",
    "    def generate_pub_keys(self):\n",
    "        return {\n",
    "            \"f_k0\":[crypto_hash(ki) for ki in self.priv_keys[\"k0\"]], \n",
    "            \"f_k1\":[crypto_hash(ki) for ki in self.priv_keys[\"k1\"]]\n",
    "        }\n",
    "    \n",
    "    def get_signature(self):\n",
    "        return {\n",
    "            \"m_bit\" : self.message,\n",
    "            \"priv_keys\" : self.priv_keys['k0'] if self.message == 0b0 else self.priv_keys['k1'],\n",
    "            \"pub_keys\" : self.pub_keys\n",
    "        }"
   ]
  },
  {
   "cell_type": "code",
   "execution_count": 218,
   "metadata": {},
   "outputs": [],
   "source": [
    "class Validation(QDS):\n",
    "    \n",
    "    THRESHOLD_CONSTANT = .5 #???\n",
    "    \n",
    "    def __init__(self, signature):\n",
    "        self.signature = signature.get_signature()\n",
    "        self.tests = self.key_tests(self.signature)\n",
    "        self.res = self.validate_sig(self.tests)\n",
    "    \n",
    "    # takes two public keys (quantum states) and performs swap test\n",
    "    # swap test returns 0 if test passes (quantum states same), 1 if failure (states differ)\n",
    "    def swap_test(self, pki, pkj):\n",
    "        \n",
    "        return 0\n",
    "    \n",
    "    def key_tests(self, sig):\n",
    "        priv_keys = sig[\"priv_keys\"]\n",
    "        \n",
    "        pub_keys = sig[\"pub_keys\"]\n",
    "        hashed_keys = [crypto_hash(ki) for ki in priv_keys]\n",
    "        \n",
    "        # perform swap test on public and hashed private keys\n",
    "        tests = [self.swap_test(pki, pkj) for pki, pkj in zip(priv_keys, hashed_keys)]\n",
    "        \n",
    "        return tests\n",
    "    \n",
    "    def validate_sig(self, tests):\n",
    "        M = len(tests)\n",
    "        threshold  = M * self.THRESHOLD_CONSTANT\n",
    "        \n",
    "        r = sum(tests)\n",
    "        if r < threshold:\n",
    "            passed = 0\n",
    "        passed = 1\n",
    "    \n",
    "        return {\n",
    "            \"passed\": passed,\n",
    "            \"r\": r,\n",
    "            \"threshold\": threshold,\n",
    "            \"tests\": self.tests,\n",
    "        }\n",
    "    \n",
    "    def result(self):\n",
    "        return self.res"
   ]
  },
  {
   "cell_type": "code",
   "execution_count": 219,
   "metadata": {},
   "outputs": [
    {
     "data": {
      "text/plain": [
       "{'m_bit': 0,\n",
       " 'priv_keys': [(5, 4), (4, 4), (0, 1), (6, 2), (4, 4), (0, 1), (3, 4), (2, 4)],\n",
       " 'pub_keys': {'f_k0': [(5, 4),\n",
       "   (4, 4),\n",
       "   (0, 1),\n",
       "   (6, 2),\n",
       "   (4, 4),\n",
       "   (0, 1),\n",
       "   (3, 4),\n",
       "   (2, 4)],\n",
       "  'f_k1': [(3, 0), (1, 2), (1, 4), (1, 5), (4, 0), (2, 1), (6, 4), (0, 0)]}}"
      ]
     },
     "execution_count": 219,
     "metadata": {},
     "output_type": "execute_result"
    }
   ],
   "source": [
    "# Message bit\n",
    "b = 0\n",
    "\n",
    "sig = Signature(b)\n",
    "\n",
    "sig.get_signature()"
   ]
  },
  {
   "cell_type": "code",
   "execution_count": 220,
   "metadata": {},
   "outputs": [
    {
     "data": {
      "text/plain": [
       "{'passed': 1, 'r': 0, 'threshold': 4.0, 'tests': [0, 0, 0, 0, 0, 0, 0, 0]}"
      ]
     },
     "execution_count": 220,
     "metadata": {},
     "output_type": "execute_result"
    }
   ],
   "source": [
    "val = Validation(sig)\n",
    "val.result()"
   ]
  },
  {
   "cell_type": "code",
   "execution_count": null,
   "metadata": {},
   "outputs": [],
   "source": []
  },
  {
   "cell_type": "code",
   "execution_count": null,
   "metadata": {},
   "outputs": [],
   "source": []
  }
 ],
 "metadata": {
  "kernelspec": {
   "display_name": "Python 3",
   "language": "python",
   "name": "python3"
  },
  "language_info": {
   "codemirror_mode": {
    "name": "ipython",
    "version": 3
   },
   "file_extension": ".py",
   "mimetype": "text/x-python",
   "name": "python",
   "nbconvert_exporter": "python",
   "pygments_lexer": "ipython3",
   "version": "3.8.5"
  }
 },
 "nbformat": 4,
 "nbformat_minor": 4
}
