{
 "cells": [
  {
   "cell_type": "code",
   "execution_count": 106,
   "metadata": {},
   "outputs": [],
   "source": [
    "from qutip import *\n",
    "import numpy as np\n",
    "import matplotlib.pyplot as plt\n",
    "\n",
    "\n",
    "from qiskit import Aer, execute\n",
    "\n",
    "from qiskit_ionq_provider import IonQProvider \n",
    "\n",
    "#Call provider and set token value\n",
    "provider = IonQProvider(token='BFmvdArkiCbsS12r4LZf5VgYDo4HngsS')"
   ]
  },
  {
   "cell_type": "code",
   "execution_count": 107,
   "metadata": {},
   "outputs": [
    {
     "data": {
      "text/plain": [
       "[<IonQSimulatorBackend('ionq_simulator') from <qiskit_ionq_provider.ionq_provider.IonQProvider object at 0x7ff68904ee90>()>,\n",
       " <IonQQPUBackend('ionq_qpu') from <qiskit_ionq_provider.ionq_provider.IonQProvider object at 0x7ff68904ee90>()>]"
      ]
     },
     "execution_count": 107,
     "metadata": {},
     "output_type": "execute_result"
    }
   ],
   "source": [
    "provider.backends()"
   ]
  },
  {
   "cell_type": "code",
   "execution_count": 108,
   "metadata": {},
   "outputs": [],
   "source": [
    "from qiskit import QuantumCircuit\n",
    "from random import randint\n",
    "\n",
    "from qiskit import QuantumCircuit, QuantumRegister\n",
    "from qiskit.circuit.library.standard_gates import RYGate\n",
    "#c3h_gate = RYGate(np.pi).control(2, ctrl_state='00')\n",
    "#qc.append(c3h_gate, qr)\n",
    "\n",
    "\n",
    "def crypto_hash_init(bitstring, K):\n",
    "\n",
    "    d = len(K)\n",
    "    n = len(bitstring)\n",
    "    big_N = 2**n\n",
    "\n",
    "    qr = QuantumRegister(d)\n",
    "    qc_hash = QuantumCircuit(qr)\n",
    "    \n",
    "    return (qc_hash, qr)\n",
    "    "
   ]
  },
  {
   "cell_type": "code",
   "execution_count": 109,
   "metadata": {},
   "outputs": [],
   "source": [
    "def crypto_hash_add_H(bitstring, K, qc_hash):\n",
    "    for i in range(d-1):\n",
    "        qc_hash.h(i)\n",
    "    \n",
    "    return qc_hash"
   ]
  },
  {
   "cell_type": "code",
   "execution_count": 110,
   "metadata": {},
   "outputs": [],
   "source": [
    "def crypto_hash_final(bitstring, K, qc_hash, qr):\n",
    "    def dec_to_bin(x,d):\n",
    "        output = str(int(bin(x)[2:]))\n",
    "        if len(output) < d-1:\n",
    "            zeros = (\"0\" * (d-1-len(output)))\n",
    "            return zeros + output\n",
    "        else:\n",
    "            return output\n",
    "\n",
    "    for n_index in range(1,n+1):\n",
    "        control_states = \"0\" * (d-1)\n",
    "        if int(bitstring[n_index-1]) == 1:\n",
    "            for perm in range(0,2**(d-1)):     \n",
    "                control_states = dec_to_bin(perm,d)            \n",
    "                i = sum(int(c) for c in control_states.strip())\n",
    "                Y_Rotate_Gate = RYGate(4*np.pi*K[i-1]*2**n_index/big_N).control(2, ctrl_state=control_states)\n",
    "                qc_hash.compose(Y_Rotate_Gate, qr, inplace=True)\n",
    "        \n",
    "    return qc_hash\n"
   ]
  },
  {
   "cell_type": "code",
   "execution_count": 111,
   "metadata": {},
   "outputs": [],
   "source": [
    "def crypto_hash(bitstring, K):\n",
    "    (qc, qr) = crypto_hash_init(bitstring, K)\n",
    "    qc = crypto_hash_add_H(bitstring, K, qc)\n",
    "    qc_hash = crypto_hash_final(bitstring, K, qc, qr)\n",
    "    \n",
    "    backend = Aer.get_backend('statevector_simulator')\n",
    "    state = execute(qc,backend).result().get_statevector()\n",
    "    return(state)\n",
    "\n"
   ]
  },
  {
   "cell_type": "code",
   "execution_count": null,
   "metadata": {},
   "outputs": [],
   "source": []
  },
  {
   "cell_type": "code",
   "execution_count": null,
   "metadata": {},
   "outputs": [],
   "source": []
  },
  {
   "cell_type": "code",
   "execution_count": null,
   "metadata": {},
   "outputs": [],
   "source": []
  }
 ],
 "metadata": {
  "kernelspec": {
   "display_name": "Python 3",
   "language": "python",
   "name": "python3"
  },
  "language_info": {
   "codemirror_mode": {
    "name": "ipython",
    "version": 3
   },
   "file_extension": ".py",
   "mimetype": "text/x-python",
   "name": "python",
   "nbconvert_exporter": "python",
   "pygments_lexer": "ipython3",
   "version": "3.7.6"
  }
 },
 "nbformat": 4,
 "nbformat_minor": 4
}
