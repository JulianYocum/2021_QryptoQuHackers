{
 "cells": [
  {
   "cell_type": "code",
   "execution_count": 1,
   "metadata": {},
   "outputs": [],
   "source": [
    "from qutip import *\n",
    "import numpy as np\n",
    "import matplotlib.pyplot as plt\n",
    "\n",
    "\n",
    "from qiskit import Aer, execute\n",
    "\n",
    "from qiskit_ionq_provider import IonQProvider \n",
    "\n",
    "#Call provider and set token value\n",
    "provider = IonQProvider(token='BFmvdArkiCbsS12r4LZf5VgYDo4HngsS')"
   ]
  },
  {
   "cell_type": "code",
   "execution_count": 2,
   "metadata": {},
   "outputs": [
    {
     "data": {
      "text/plain": [
       "[<IonQSimulatorBackend('ionq_simulator') from <qiskit_ionq_provider.ionq_provider.IonQProvider object at 0x7f463b426090>()>,\n",
       " <IonQQPUBackend('ionq_qpu') from <qiskit_ionq_provider.ionq_provider.IonQProvider object at 0x7f463b426090>()>]"
      ]
     },
     "execution_count": 2,
     "metadata": {},
     "output_type": "execute_result"
    }
   ],
   "source": [
    "provider.backends()"
   ]
  },
  {
   "cell_type": "code",
   "execution_count": 12,
   "metadata": {},
   "outputs": [],
   "source": [
    "from qiskit import QuantumCircuit\n",
    "from random import randint\n",
    "\n",
    "from qiskit import QuantumCircuit, QuantumRegister\n",
    "from qiskit.circuit.library.standard_gates import RYGate\n",
    "\n",
    "def dec_to_bin(x,d):\n",
    "    output = str(int(bin(x)[2:]))\n",
    "    if len(output) < d-1:\n",
    "        zeros = (\"0\" * (d-1-len(output)))\n",
    "        return zeros + output\n",
    "    elif len(output) > d-1:\n",
    "        print(\"input number needed to be cut to fit parameters\")\n",
    "        return output[len(output)-d-1:len(output)]\n",
    "    else:\n",
    "        return output\n",
    "\n",
    "def crypto_hash_init(input_num, K):\n",
    "    \n",
    "    \n",
    "    d = len(K)\n",
    "    bitstring = dec_to_bin(input_num,d)\n",
    "    n = len(bitstring)\n",
    "    big_N = 2**n\n",
    "    \n",
    "    \n",
    "\n",
    "    qr = QuantumRegister(d)\n",
    "    qc_hash = QuantumCircuit(qr)\n",
    "    \n",
    "    return (qc_hash, qr, d, bitstring, n, big_N)\n",
    "    "
   ]
  },
  {
   "cell_type": "code",
   "execution_count": 26,
   "metadata": {},
   "outputs": [],
   "source": [
    "def crypto_hash_add_H(qc_hash, qr, d, bitstring, n, big_N):\n",
    "    for i in range(d-1):\n",
    "        qc_hash.h(i)\n",
    "    \n",
    "    return qc_hash"
   ]
  },
  {
   "cell_type": "code",
   "execution_count": 12,
   "metadata": {},
   "outputs": [],
   "source": [
    "def crypto_hash_final(qc_hash, qr, d, bitstring, n, big_N, K):\n",
    "    for n_index in range(1,n+1):\n",
    "        control_states = \"0\" * (d-1)\n",
    "        if int(bitstring[n_index-1]) == 1:\n",
    "            for perm in range(0,2**(d-1)):     \n",
    "                control_states = dec_to_bin(perm,d)\n",
    "                i = sum(int(c) for c in control_states.strip())\n",
    "                Y_Rotate_Gate = RYGate(np.pi*K[i-1]*2**n_index/big_N).control(d-1, ctrl_state=control_states)\n",
    "                qc_hash.compose(Y_Rotate_Gate, qr, inplace=True)\n",
    "        \n",
    "    return qc_hash\n"
   ]
  },
  {
   "cell_type": "code",
   "execution_count": 13,
   "metadata": {},
   "outputs": [],
   "source": [
    "def crypto_hash(input_num, K):\n",
    "    (qc_hash, qr, d, bitstring, n, big_N) = crypto_hash_init(input_num, K)\n",
    "    qc = crypto_hash_add_H(qc_hash, qr, d, bitstring, n, big_N)\n",
    "    qc_hash = crypto_hash_final(qc, qr, d, bitstring, n, big_N, K)\n",
    "    \n",
    "    backend = Aer.get_backend('statevector_simulator')\n",
    "    state = execute(qc,backend).result().get_statevector()\n",
    "    return(state)\n",
    "\n"
   ]
  },
  {
   "cell_type": "code",
   "execution_count": 14,
   "metadata": {},
   "outputs": [
    {
     "data": {
      "text/plain": [
       "array([ 3.53553391e-01+0.j, -3.53553391e-01+0.j, -3.53553391e-01+0.j,\n",
       "       -1.32691167e-16+0.j,  3.53553391e-01+0.j,  3.53553391e-01+0.j,\n",
       "        3.53553391e-01+0.j, -5.00000000e-01+0.j])"
      ]
     },
     "execution_count": 14,
     "metadata": {},
     "output_type": "execute_result"
    }
   ],
   "source": [
    "crypto_hash(3, [1,2,3])"
   ]
  },
  {
   "cell_type": "code",
   "execution_count": null,
   "metadata": {},
   "outputs": [],
   "source": []
  },
  {
   "cell_type": "code",
   "execution_count": null,
   "metadata": {},
   "outputs": [],
   "source": []
  }
 ],
 "metadata": {
  "kernelspec": {
   "display_name": "Python 3",
   "language": "python",
   "name": "python3"
  },
  "language_info": {
   "codemirror_mode": {
    "name": "ipython",
    "version": 3
   },
   "file_extension": ".py",
   "mimetype": "text/x-python",
   "name": "python",
   "nbconvert_exporter": "python",
   "pygments_lexer": "ipython3",
   "version": "3.7.6"
  }
 },
 "nbformat": 4,
 "nbformat_minor": 4
}
