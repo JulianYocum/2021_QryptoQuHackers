{
 "cells": [
  {
   "cell_type": "code",
   "execution_count": 55,
   "metadata": {},
   "outputs": [],
   "source": [
    "from qutip import *\n",
    "import numpy as np\n",
    "import matplotlib.pyplot as plt\n",
    "\n",
    "\n",
    "from qiskit import Aer\n",
    "\n",
    "from qiskit_ionq_provider import IonQProvider \n",
    "\n",
    "#Call provider and set token value\n",
    "provider = IonQProvider(token='BFmvdArkiCbsS12r4LZf5VgYDo4HngsS')"
   ]
  },
  {
   "cell_type": "code",
   "execution_count": 56,
   "metadata": {},
   "outputs": [
    {
     "data": {
      "text/plain": [
       "[<IonQSimulatorBackend('ionq_simulator') from <qiskit_ionq_provider.ionq_provider.IonQProvider object at 0x7ff47ead1bd0>()>,\n",
       " <IonQQPUBackend('ionq_qpu') from <qiskit_ionq_provider.ionq_provider.IonQProvider object at 0x7ff47ead1bd0>()>]"
      ]
     },
     "execution_count": 56,
     "metadata": {},
     "output_type": "execute_result"
    }
   ],
   "source": [
    "provider.backends()"
   ]
  },
  {
   "cell_type": "code",
   "execution_count": null,
   "metadata": {},
   "outputs": [],
   "source": []
  },
  {
   "cell_type": "code",
   "execution_count": 57,
   "metadata": {},
   "outputs": [
    {
     "name": "stdout",
     "output_type": "stream",
     "text": [
      "[2, 2, 1]\n"
     ]
    },
    {
     "data": {
      "text/html": [
       "<pre style=\"word-wrap: normal;white-space: pre;background: #fff0;line-height: 1.1;font-family: &quot;Courier New&quot;,Courier,monospace\">      \n",
       "q6_0: \n",
       "      \n",
       "q6_1: \n",
       "      \n",
       "q6_2: \n",
       "      </pre>"
      ],
      "text/plain": [
       "      \n",
       "q6_0: \n",
       "      \n",
       "q6_1: \n",
       "      \n",
       "q6_2: \n",
       "      "
      ]
     },
     "execution_count": 57,
     "metadata": {},
     "output_type": "execute_result"
    }
   ],
   "source": [
    "from qiskit import QuantumCircuit\n",
    "from random import randint\n",
    "\n",
    "from qiskit import QuantumCircuit, QuantumRegister\n",
    "from qiskit.circuit.library.standard_gates import RYGate\n",
    "#c3h_gate = RYGate(np.pi).control(2, ctrl_state='00')\n",
    "#qc.append(c3h_gate, qr)\n",
    "\n",
    "\n",
    "d = 3\n",
    "bitstring = \"1001\"\n",
    "n = len(bitstring)\n",
    "big_N = 2**n\n",
    "\n",
    "# Generating Key to Use\n",
    "K = []\n",
    "for key in range(d):\n",
    "    K += [randint(0,d)]  \n",
    "    \n",
    "print(K)\n",
    "\n",
    "qr = QuantumRegister(d)\n",
    "qc_hash = QuantumCircuit(qr)\n",
    "\n",
    "\n",
    "\"\"\"for index in range(n):\n",
    "    if int(bitstring[index]):\n",
    "        qc_hash.x(index)\n",
    "   \"\"\"     \n",
    "qc_hash.draw()"
   ]
  },
  {
   "cell_type": "code",
   "execution_count": 58,
   "metadata": {},
   "outputs": [
    {
     "data": {
      "text/html": [
       "<pre style=\"word-wrap: normal;white-space: pre;background: #fff0;line-height: 1.1;font-family: &quot;Courier New&quot;,Courier,monospace\">      ┌───┐\n",
       "q6_0: ┤ H ├\n",
       "      ├───┤\n",
       "q6_1: ┤ H ├\n",
       "      └───┘\n",
       "q6_2: ─────\n",
       "           </pre>"
      ],
      "text/plain": [
       "      ┌───┐\n",
       "q6_0: ┤ H ├\n",
       "      ├───┤\n",
       "q6_1: ┤ H ├\n",
       "      └───┘\n",
       "q6_2: ─────\n",
       "           "
      ]
     },
     "execution_count": 58,
     "metadata": {},
     "output_type": "execute_result"
    }
   ],
   "source": [
    "for i in range(d-1):\n",
    "    qc_hash.h(i)\n",
    "    \n",
    "qc_hash.draw()"
   ]
  },
  {
   "cell_type": "code",
   "execution_count": 59,
   "metadata": {},
   "outputs": [
    {
     "data": {
      "text/html": [
       "<pre style=\"word-wrap: normal;white-space: pre;background: #fff0;line-height: 1.1;font-family: &quot;Courier New&quot;,Courier,monospace\">      ┌───┐                                                                    »\n",
       "q6_0: ┤ H ├─────o─────────■────────o────────■────────o─────────■─────────o─────»\n",
       "      ├───┤     │         │        │        │        │         │         │     »\n",
       "q6_1: ┤ H ├─────o─────────o────────■────────■────────o─────────o─────────■─────»\n",
       "      └───┘┌────┴────┐┌───┴───┐┌───┴───┐┌───┴───┐┌───┴────┐┌───┴────┐┌───┴────┐»\n",
       "q6_2: ─────┤ RY(π/2) ├┤ RY(π) ├┤ RY(π) ├┤ RY(π) ├┤ RY(4π) ├┤ RY(8π) ├┤ RY(8π) ├»\n",
       "           └─────────┘└───────┘└───────┘└───────┘└────────┘└────────┘└────────┘»\n",
       "«                \n",
       "«q6_0: ────■─────\n",
       "«          │     \n",
       "«q6_1: ────■─────\n",
       "«      ┌───┴────┐\n",
       "«q6_2: ┤ RY(8π) ├\n",
       "«      └────────┘</pre>"
      ],
      "text/plain": [
       "      ┌───┐                                                                    »\n",
       "q6_0: ┤ H ├─────o─────────■────────o────────■────────o─────────■─────────o─────»\n",
       "      ├───┤     │         │        │        │        │         │         │     »\n",
       "q6_1: ┤ H ├─────o─────────o────────■────────■────────o─────────o─────────■─────»\n",
       "      └───┘┌────┴────┐┌───┴───┐┌───┴───┐┌───┴───┐┌───┴────┐┌───┴────┐┌───┴────┐»\n",
       "q6_2: ─────┤ RY(π/2) ├┤ RY(π) ├┤ RY(π) ├┤ RY(π) ├┤ RY(4π) ├┤ RY(8π) ├┤ RY(8π) ├»\n",
       "           └─────────┘└───────┘└───────┘└───────┘└────────┘└────────┘└────────┘»\n",
       "«                \n",
       "«q6_0: ────■─────\n",
       "«          │     \n",
       "«q6_1: ────■─────\n",
       "«      ┌───┴────┐\n",
       "«q6_2: ┤ RY(8π) ├\n",
       "«      └────────┘"
      ]
     },
     "execution_count": 59,
     "metadata": {},
     "output_type": "execute_result"
    }
   ],
   "source": [
    "def dec_to_bin(x,d):\n",
    "    output = str(int(bin(x)[2:]))\n",
    "    if len(output) < d-1:\n",
    "        zeros = (\"0\" * (d-1-len(output)))\n",
    "        return zeros + output\n",
    "    else:\n",
    "        return output\n",
    "\n",
    "for n_index in range(1,n+1):\n",
    "    control_states = \"0\" * (d-1)\n",
    "    if int(bitstring[n_index-1]) == 1:\n",
    "        for perm in range(0,2**(d-1)):     \n",
    "            control_states = dec_to_bin(perm,d)            \n",
    "            i = sum(int(c) for c in control_states.strip())\n",
    "            Y_Rotate_Gate = RYGate(4*np.pi*K[i-1]*2**n_index/big_N).control(2, ctrl_state=control_states)\n",
    "            qc_hash.append(Y_Rotate_Gate, qr)\n",
    "        \n",
    "\n",
    "qc_hash.draw()"
   ]
  },
  {
   "cell_type": "code",
   "execution_count": null,
   "metadata": {},
   "outputs": [],
   "source": []
  }
 ],
 "metadata": {
  "kernelspec": {
   "display_name": "Python 3",
   "language": "python",
   "name": "python3"
  },
  "language_info": {
   "codemirror_mode": {
    "name": "ipython",
    "version": 3
   },
   "file_extension": ".py",
   "mimetype": "text/x-python",
   "name": "python",
   "nbconvert_exporter": "python",
   "pygments_lexer": "ipython3",
   "version": "3.7.6"
  }
 },
 "nbformat": 4,
 "nbformat_minor": 4
}
