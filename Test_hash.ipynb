***REMOVED***
***REMOVED***
  ***REMOVED***
***REMOVED***
   "execution_count": 55,
   "metadata": ***REMOVED******REMOVED***,
***REMOVED***
***REMOVED***
***REMOVED***
***REMOVED***
***REMOVED***
***REMOVED***
***REMOVED***
***REMOVED***
***REMOVED***
    "***REMOVED***\n",
***REMOVED***
    "***REMOVED***\n",
    "provider = IonQProvider(token='BFmvdArkiCbsS12r4LZf5VgYDo4HngsS')"
***REMOVED***
***REMOVED***
  ***REMOVED***
***REMOVED***
   "execution_count": 56,
   "metadata": ***REMOVED******REMOVED***,
***REMOVED***
    ***REMOVED***
     "data": ***REMOVED***
***REMOVED***
       "[<IonQSimulatorBackend('ionq_simulator') from <qiskit_ionq_provider.ionq_provider.IonQProvider object at 0x7ff47ead1bd0>()>,\n",
       " <IonQQPUBackend('ionq_qpu') from <qiskit_ionq_provider.ionq_provider.IonQProvider object at 0x7ff47ead1bd0>()>]"
   ***REMOVED***
   ***REMOVED***
     "execution_count": 56,
     "metadata": ***REMOVED******REMOVED***,
***REMOVED***
***REMOVED***
***REMOVED***,
***REMOVED***
***REMOVED***
***REMOVED***
***REMOVED***
  ***REMOVED***
***REMOVED***
***REMOVED***
   "metadata": ***REMOVED******REMOVED***,
***REMOVED***
***REMOVED***]
***REMOVED***
  ***REMOVED***
***REMOVED***
   "execution_count": 57,
   "metadata": ***REMOVED******REMOVED***,
***REMOVED***
    ***REMOVED***
***REMOVED***
***REMOVED***
***REMOVED***
      "[2, 2, 1]\n"
  ***REMOVED***
  ***REMOVED***
    ***REMOVED***
     "data": ***REMOVED***
***REMOVED***
***REMOVED***
       "q6_0: \n",
***REMOVED***
       "q6_1: \n",
***REMOVED***
       "q6_2: \n",
***REMOVED***
   ***REMOVED***,
***REMOVED***
***REMOVED***
       "q6_0: \n",
***REMOVED***
       "q6_1: \n",
***REMOVED***
       "q6_2: \n",
***REMOVED***
   ***REMOVED***
   ***REMOVED***
     "execution_count": 57,
     "metadata": ***REMOVED******REMOVED***,
***REMOVED***
***REMOVED***
***REMOVED***,
***REMOVED***
***REMOVED***
***REMOVED***
***REMOVED***
***REMOVED***
***REMOVED***
***REMOVED***
***REMOVED***
***REMOVED***
***REMOVED***
***REMOVED***
    "bitstring = \"1001\"\n",
***REMOVED***
***REMOVED***
***REMOVED***
***REMOVED***
***REMOVED***
***REMOVED***
***REMOVED***
***REMOVED***
***REMOVED***
***REMOVED***
***REMOVED***
***REMOVED***
***REMOVED***
***REMOVED***
***REMOVED***
***REMOVED***
***REMOVED***
***REMOVED***
***REMOVED***
***REMOVED***
***REMOVED***
  ***REMOVED***
***REMOVED***
   "execution_count": 58,
   "metadata": ***REMOVED******REMOVED***,
***REMOVED***
    ***REMOVED***
     "data": ***REMOVED***
***REMOVED***
***REMOVED***
       "q6_0: ┤ H ├\n",
***REMOVED***
       "q6_1: ┤ H ├\n",
***REMOVED***
       "q6_2: ─────\n",
***REMOVED***
   ***REMOVED***,
***REMOVED***
***REMOVED***
       "q6_0: ┤ H ├\n",
***REMOVED***
       "q6_1: ┤ H ├\n",
***REMOVED***
       "q6_2: ─────\n",
***REMOVED***
   ***REMOVED***
   ***REMOVED***
     "execution_count": 58,
     "metadata": ***REMOVED******REMOVED***,
***REMOVED***
***REMOVED***
***REMOVED***,
***REMOVED***
***REMOVED***
***REMOVED***
***REMOVED***
***REMOVED***
***REMOVED***
***REMOVED***
  ***REMOVED***
***REMOVED***
   "execution_count": 59,
   "metadata": ***REMOVED******REMOVED***,
***REMOVED***
    ***REMOVED***
     "data": ***REMOVED***
***REMOVED***
       "<pre style=\"word-wrap: normal;white-space: pre;background: #fff0;line-height: 1.1;font-family: &quot;Courier New&quot;,Courier,monospace\">      ┌───┐                                                                    »\n",
       "q6_0: ┤ H ├─────o─────────■────────o────────■────────o─────────■─────────o─────»\n",
       "      ├───┤     │         │        │        │        │         │         │     »\n",
       "q6_1: ┤ H ├─────o─────────o────────■────────■────────o─────────o─────────■─────»\n",
       "      └───┘┌────┴────┐┌───┴───┐┌───┴───┐┌───┴───┐┌───┴────┐┌───┴────┐┌───┴────┐»\n",
       "q6_2: ─────┤ RY(π/2) ├┤ RY(π) ├┤ RY(π) ├┤ RY(π) ├┤ RY(4π) ├┤ RY(8π) ├┤ RY(8π) ├»\n",
       "           └─────────┘└───────┘└───────┘└───────┘└────────┘└────────┘└────────┘»\n",
       "«                \n",
       "«q6_0: ────■─────\n",
       "«          │     \n",
       "«q6_1: ────■─────\n",
       "«      ┌───┴────┐\n",
       "«q6_2: ┤ RY(8π) ├\n",
       "«      └────────┘</pre>"
   ***REMOVED***,
***REMOVED***
       "      ┌───┐                                                                    »\n",
       "q6_0: ┤ H ├─────o─────────■────────o────────■────────o─────────■─────────o─────»\n",
       "      ├───┤     │         │        │        │        │         │         │     »\n",
       "q6_1: ┤ H ├─────o─────────o────────■────────■────────o─────────o─────────■─────»\n",
       "      └───┘┌────┴────┐┌───┴───┐┌───┴───┐┌───┴───┐┌───┴────┐┌───┴────┐┌───┴────┐»\n",
       "q6_2: ─────┤ RY(π/2) ├┤ RY(π) ├┤ RY(π) ├┤ RY(π) ├┤ RY(4π) ├┤ RY(8π) ├┤ RY(8π) ├»\n",
       "           └─────────┘└───────┘└───────┘└───────┘└────────┘└────────┘└────────┘»\n",
       "«                \n",
       "«q6_0: ────■─────\n",
       "«          │     \n",
       "«q6_1: ────■─────\n",
       "«      ┌───┴────┐\n",
       "«q6_2: ┤ RY(8π) ├\n",
       "«      └────────┘"
   ***REMOVED***
   ***REMOVED***
     "execution_count": 59,
     "metadata": ***REMOVED******REMOVED***,
***REMOVED***
***REMOVED***
***REMOVED***,
***REMOVED***
***REMOVED***
***REMOVED***
***REMOVED***
***REMOVED***
***REMOVED***
***REMOVED***
***REMOVED***
***REMOVED***
***REMOVED***
***REMOVED***
***REMOVED***
***REMOVED***
***REMOVED***
***REMOVED***
***REMOVED***
    "            qc_hash.append(Y_Rotate_Gate, qr)\n",
***REMOVED***
***REMOVED***
***REMOVED***
***REMOVED***
***REMOVED***
  ***REMOVED***
***REMOVED***
***REMOVED***
   "metadata": ***REMOVED******REMOVED***,
***REMOVED***
***REMOVED***]
***REMOVED***
***REMOVED***
 "metadata": ***REMOVED***
  "kernelspec": ***REMOVED***
***REMOVED***
***REMOVED***
***REMOVED***
***REMOVED***
  "language_info": ***REMOVED***
   "codemirror_mode": ***REMOVED***
***REMOVED***
***REMOVED***
 ***REMOVED***
***REMOVED***
***REMOVED***
***REMOVED***
***REMOVED***
***REMOVED***
***REMOVED***
***REMOVED***
***REMOVED***
***REMOVED***
***REMOVED***
***REMOVED***
